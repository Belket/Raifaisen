{
 "cells": [
  {
   "cell_type": "code",
   "execution_count": null,
   "metadata": {},
   "outputs": [],
   "source": [
    "import random\n",
    "import numpy as np\n",
    "from scipy.stats import ttest_ind_from_stats"
   ]
  },
  {
   "cell_type": "markdown",
   "metadata": {},
   "source": [
    "### Задание 1\n",
    "Подсчитать количество клиентов для каждого из сегментов, совершавших транзакции. "
   ]
  },
  {
   "cell_type": "code",
   "execution_count": null,
   "metadata": {},
   "outputs": [],
   "source": [
    "def unique_segment_clients(segment):\n",
    "    unique_users = set()\n",
    "    with open('transactions.txt', 'r') as file:\n",
    "        for transaction in file:\n",
    "            _, user_id, _, category = transaction.strip().split(',')\n",
    "            if category == segment:\n",
    "                unique_users.add(user_id)\n",
    "    return len(unique_users)"
   ]
  },
  {
   "cell_type": "code",
   "execution_count": null,
   "metadata": {},
   "outputs": [],
   "source": [
    "print(\"Число клиентов, совершавших транзакции в секторе R:\", unique_segment_clients('R'))\n",
    "print(\"Число клиентов, совершавших транзакции в секторе AF:\", unique_segment_clients('AF'))"
   ]
  },
  {
   "cell_type": "markdown",
   "metadata": {},
   "source": [
    "### Задание 2\n",
    "Подсчитать средний объем отдельной транзакции в каждом из сегментов."
   ]
  },
  {
   "cell_type": "code",
   "execution_count": null,
   "metadata": {},
   "outputs": [],
   "source": [
    "def segment_mean(segment):\n",
    "    segment_volume = 0\n",
    "    segment_transactions_amount = 0\n",
    "\n",
    "    with open('transactions.txt', 'r') as file:\n",
    "        for transaction in file:\n",
    "            _, _, volume, category = transaction.strip().split(',')\n",
    "            if category == segment:\n",
    "                segment_transactions_amount += 1\n",
    "                segment_volume += int(volume)\n",
    "    return segment_volume / segment_transactions_amount    "
   ]
  },
  {
   "cell_type": "code",
   "execution_count": null,
   "metadata": {},
   "outputs": [],
   "source": [
    "print('Средний объем отдельной транзакции в сегменте R: ', segment_mean('R'))\n",
    "print('Средний объем отдельной транзакции в сегменте AF: ', segment_mean('AF'))   "
   ]
  },
  {
   "cell_type": "markdown",
   "metadata": {},
   "source": [
    "### Задание 3\n",
    "Подсчитать 90% доверительный интервал для среднего объема отдельной транзакции в каждом из сегментов. "
   ]
  },
  {
   "cell_type": "code",
   "execution_count": null,
   "metadata": {},
   "outputs": [],
   "source": [
    "# Получение выборки из генеральной совокупности для сегментов\n",
    "def generate_sample(segment, sample_size=5000):\n",
    "    sample = []\n",
    "\n",
    "    with open('transactions.txt', 'r') as file:\n",
    "        for transaction in file:\n",
    "            _, _, volume, category = transaction.strip().split(',')\n",
    "            if category == segment:\n",
    "                sample.append(int(volume))\n",
    "            if len(sample) >= sample_size:\n",
    "                break\n",
    "    return sample\n",
    "\n",
    "def confidence_interval(segment, sample_size=5000):    \n",
    "    z = 1.65  # Значение для 90% доверительного интервала\n",
    "    sample = generate_sample(segment, sample_size)  # Выборка из сегмента\n",
    "    sample_std = np.std(sample)\n",
    "    segment_mean_value = round(segment_mean(segment))\n",
    "    left_border = segment_mean_value - z * sample_std / np.sqrt(sample_size)\n",
    "    right_border = segment_mean_value + z * sample_std / np.sqrt(sample_size)\n",
    "    return left_border, right_border"
   ]
  },
  {
   "cell_type": "code",
   "execution_count": null,
   "metadata": {},
   "outputs": [],
   "source": [
    "R_left_border, R_right_border = confidence_interval('R', sample_size=1000)\n",
    "print(\"90% Доверительный интервал для сегмента R: \", str(R_left_border) + \" <= mu <= \" + str(R_right_border)) \n",
    "AF_left_border, AF_right_border = confidence_interval('AF', sample_size=1000)\n",
    "print(\"90% Доверительный интервал для сегмента AF: \", str(AF_left_border) + \" <= mu <= \" + str(AF_right_border)) "
   ]
  },
  {
   "cell_type": "markdown",
   "metadata": {},
   "source": [
    "### Задание 4\n",
    "Проверить гипотезу о равенстве средних объемов отдельных транзакций между сегментами при уровне значимости 10%. "
   ]
  },
  {
   "cell_type": "code",
   "execution_count": null,
   "metadata": {},
   "outputs": [],
   "source": [
    "def huge_data_statistics(segment):\n",
    "    common_sum = 0\n",
    "    observations_number = 0\n",
    "    segment_mean_value = round(segment_mean(segment))\n",
    "    with open('transactions.txt', 'r') as file:\n",
    "        for transaction in file:\n",
    "            _, _, volume, category = transaction.strip().split(',')\n",
    "            if category == segment:\n",
    "                common_sum += (int(volume) - segment_mean_value)**2\n",
    "                observations_number += 1\n",
    "    return segment_mean_value, np.sqrt(common_sum / observations_number), observations_number"
   ]
  },
  {
   "cell_type": "code",
   "execution_count": null,
   "metadata": {},
   "outputs": [],
   "source": [
    "R_mean, R_std, R_observations_number = huge_data_statistics('R')\n",
    "AF_mean, AF_std, AF_observations_number = huge_data_statistics('AF')\n",
    "test_results = ttest_ind_from_stats(R_mean, R_std, R_observations_number, AF_mean, AF_std, AF_observations_number)\n",
    "if test_results.pvalue > 0.1:\n",
    "    print(\"Невозможно отклонить нулевую гипотезу о равенстве средних объемов отдельных транзакций между сегментами\\\n",
    " при уровне значимости 10%\")\n",
    "else:\n",
    "    print(\"Возможно отклонить нулевую гипотезу о равенстве средних объемов отдельных транзакций между сегментами\\\n",
    " при уровне значимости 10%\")"
   ]
  }
 ],
 "metadata": {
  "kernelspec": {
   "display_name": "Python 3",
   "language": "python",
   "name": "python3"
  },
  "language_info": {
   "codemirror_mode": {
    "name": "ipython",
    "version": 3
   },
   "file_extension": ".py",
   "mimetype": "text/x-python",
   "name": "python",
   "nbconvert_exporter": "python",
   "pygments_lexer": "ipython3",
   "version": "3.7.3"
  }
 },
 "nbformat": 4,
 "nbformat_minor": 2
}
